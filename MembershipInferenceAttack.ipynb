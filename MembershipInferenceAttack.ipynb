{
  "cells": [
    {
      "cell_type": "code",
      "source": [
        "import numpy as np\n",
        "import matplotlib.pyplot as plt\n",
        "import tensorflow as tf"
      ],
      "metadata": {
        "id": "5qDtk8pu3RqK"
      },
      "execution_count": 273,
      "outputs": []
    },
    {
      "cell_type": "code",
      "execution_count": 274,
      "metadata": {
        "id": "V7kYgtcfwC5g"
      },
      "outputs": [],
      "source": [
        "import tensorflow as tf\n",
        "from tensorflow import keras\n",
        "from tensorflow.keras import layers"
      ]
    },
    {
      "cell_type": "markdown",
      "source": [
        "Mounting Data From Drive"
      ],
      "metadata": {
        "id": "FLBUrS02EkMG"
      }
    },
    {
      "cell_type": "markdown",
      "source": [
        "Here we are mounting data from the gogle drive. Please upload all the data files by creating a new folder called content in google drive"
      ],
      "metadata": {
        "id": "-4pm7We_Ek5j"
      }
    },
    {
      "cell_type": "code",
      "source": [
        "from google.colab import drive\n",
        "drive.mount('/content/drive/')"
      ],
      "metadata": {
        "id": "_cJeFc8Xyuk2",
        "colab": {
          "base_uri": "https://localhost:8080/"
        },
        "outputId": "a5cdc101-a571-4a6c-ebed-285d87dbfd3a"
      },
      "execution_count": 275,
      "outputs": [
        {
          "output_type": "stream",
          "name": "stdout",
          "text": [
            "Drive already mounted at /content/drive/; to attempt to forcibly remount, call drive.mount(\"/content/drive/\", force_remount=True).\n"
          ]
        }
      ]
    },
    {
      "cell_type": "markdown",
      "metadata": {
        "id": "sOq2V_HLpFtl"
      },
      "source": [
        "Target Model"
      ]
    },
    {
      "cell_type": "code",
      "source": [
        "#here we are loading our Target model\n",
        "target_model=tf.keras.models.load_model(\"/content/drive/My Drive/CryptoProject/trained_target_model.h5\")"
      ],
      "metadata": {
        "id": "5LqhL2ZU8oBx"
      },
      "execution_count": 276,
      "outputs": []
    },
    {
      "cell_type": "markdown",
      "source": [
        "1st layer: Conv layer + Max Pooling\n",
        "\n",
        "2nd layer: Conv layer + Max Pooling\n",
        "\n",
        "3rd layer: Fully Conn (256 * 128)\n",
        "\n",
        "4th layer: Fully COon (128 * 10)"
      ],
      "metadata": {
        "id": "abYf43mN_Mm-"
      }
    },
    {
      "cell_type": "code",
      "source": [
        "target_model.summary()"
      ],
      "metadata": {
        "colab": {
          "base_uri": "https://localhost:8080/"
        },
        "id": "F38hflos_APG",
        "outputId": "a5f1f493-4a7f-4998-b48e-aed76d3cf46c"
      },
      "execution_count": 277,
      "outputs": [
        {
          "output_type": "stream",
          "name": "stdout",
          "text": [
            "Model: \"model\"\n",
            "_________________________________________________________________\n",
            " Layer (type)                Output Shape              Param #   \n",
            "=================================================================\n",
            " input_1 (InputLayer)        [(None, 32, 32, 3)]       0         \n",
            "                                                                 \n",
            " conv2d (Conv2D)             (None, 30, 30, 32)        896       \n",
            "                                                                 \n",
            " max_pooling2d (MaxPooling2D  (None, 15, 15, 32)       0         \n",
            " )                                                               \n",
            "                                                                 \n",
            " conv2d_1 (Conv2D)           (None, 13, 13, 64)        18496     \n",
            "                                                                 \n",
            " max_pooling2d_1 (MaxPooling  (None, 6, 6, 64)         0         \n",
            " 2D)                                                             \n",
            "                                                                 \n",
            " conv2d_2 (Conv2D)           (None, 4, 4, 64)          36928     \n",
            "                                                                 \n",
            " max_pooling2d_2 (MaxPooling  (None, 2, 2, 64)         0         \n",
            " 2D)                                                             \n",
            "                                                                 \n",
            " flatten (Flatten)           (None, 256)               0         \n",
            "                                                                 \n",
            " dense (Dense)               (None, 128)               32896     \n",
            "                                                                 \n",
            " dense_1 (Dense)             (None, 10)                1290      \n",
            "                                                                 \n",
            "=================================================================\n",
            "Total params: 90,506\n",
            "Trainable params: 90,506\n",
            "Non-trainable params: 0\n",
            "_________________________________________________________________\n"
          ]
        }
      ]
    },
    {
      "cell_type": "markdown",
      "source": [
        "How the Target Model work?"
      ],
      "metadata": {
        "id": "iCJcJqyzCoJh"
      }
    },
    {
      "cell_type": "code",
      "source": [
        "#here we are loading the partial test train data and their lables\n",
        "traindata_partial=np.load(\"/content/drive/My Drive/CryptoProject/train_data_partial.npy\")\n",
        "trainlabels_partial=np.load(\"/content/drive/My Drive/CryptoProject/train_labels_partial.npy\")\n",
        "testdata_partial=np.load(\"/content/drive/My Drive/CryptoProject/test_data_partial.npy\")\n",
        "testlabels_partial=np.load(\"/content/drive/My Drive/CryptoProject/test_labels_partial.npy\")"
      ],
      "metadata": {
        "id": "8PSK_gCt_CW-"
      },
      "execution_count": 278,
      "outputs": []
    },
    {
      "cell_type": "code",
      "source": [
        "random=np.random.randint(0,10000, (10,))"
      ],
      "metadata": {
        "id": "1wcUR9lNC9gZ"
      },
      "execution_count": 279,
      "outputs": []
    },
    {
      "cell_type": "code",
      "source": [
        "rand_data=traindata_partial[random]"
      ],
      "metadata": {
        "id": "oE5myLQ6DDVC"
      },
      "execution_count": 280,
      "outputs": []
    },
    {
      "cell_type": "code",
      "source": [
        "def show_data(image_data):\n",
        "        num_row = 2\n",
        "        num_col = 5\n",
        "        fig, axes = plt.subplots(num_row, num_col, figsize=(1.5*num_col,2*num_row))\n",
        "        for i in range(10):\n",
        "            ax = axes[i//num_col, i%num_col]\n",
        "            ax.set_axis_off()\n",
        "            ax.imshow(image_data[i])\n",
        "\n",
        "        plt.tight_layout()\n",
        "        plt.show()\n",
        "\n",
        "class_names = ['airplane', 'automobile', 'bird', 'cat', 'deer',\n",
        "               'dog', 'frog', 'horse', 'ship', 'truck']"
      ],
      "metadata": {
        "id": "V-VQWDmHDq1V"
      },
      "execution_count": 281,
      "outputs": []
    },
    {
      "cell_type": "code",
      "source": [
        "show_data(rand_data) #this is some of the random data which we are using to test out target model prediction"
      ],
      "metadata": {
        "colab": {
          "base_uri": "https://localhost:8080/",
          "height": 341
        },
        "id": "acYl8urNDlcm",
        "outputId": "0224f620-0630-4b56-9306-42ef64b12cc8"
      },
      "execution_count": 282,
      "outputs": [
        {
          "output_type": "display_data",
          "data": {
            "text/plain": [
              "<Figure size 750x400 with 10 Axes>"
            ],
            "image/png": "[encoded data removed]"
          },
          "metadata": {}
        }
      ]
    },
    {
      "cell_type": "code",
      "source": [
        "prediction=target_model(rand_data) #we are predicting the lables of the random data by feeding it to our target model"
      ],
      "metadata": {
        "id": "b0AvpYtHDt4p"
      },
      "execution_count": 283,
      "outputs": []
    },
    {
      "cell_type": "code",
      "source": [
        "predict_label=tf.math.argmax(prediction, axis=1)\n",
        "print(predict_label)"
      ],
      "metadata": {
        "colab": {
          "base_uri": "https://localhost:8080/"
        },
        "id": "qBHxk-PoD4LO",
        "outputId": "165eb6b0-c438-417b-cbc7-e4b25c113d13"
      },
      "execution_count": 284,
      "outputs": [
        {
          "output_type": "stream",
          "name": "stdout",
          "text": [
            "tf.Tensor([0 5 1 6 0 7 0 6 5 0], shape=(10,), dtype=int64)\n"
          ]
        }
      ]
    },
    {
      "cell_type": "code",
      "source": [
        "#These are the lables of the random data predicted by out target model\n",
        "for no in predict_label:\n",
        "    print(class_names[no]) "
      ],
      "metadata": {
        "colab": {
          "base_uri": "https://localhost:8080/"
        },
        "id": "L2_nNmHhD9_F",
        "outputId": "c77b8967-4927-4608-c01f-b62d1ccbedac"
      },
      "execution_count": 285,
      "outputs": [
        {
          "output_type": "stream",
          "name": "stdout",
          "text": [
            "airplane\n",
            "dog\n",
            "automobile\n",
            "frog\n",
            "airplane\n",
            "horse\n",
            "airplane\n",
            "frog\n",
            "dog\n",
            "airplane\n"
          ]
        }
      ]
    },
    {
      "cell_type": "code",
      "source": [
        "first_10_labels=trainlabels_partial[random]\n",
        "pred_accuracy=sum(first_10_labels==predict_label.numpy())/len(first_10_labels)\n",
        "print('Accuracy of Target Model :', pred_accuracy)"
      ],
      "metadata": {
        "colab": {
          "base_uri": "https://localhost:8080/"
        },
        "id": "J_D0HcRLEBEO",
        "outputId": "b3d95af9-1605-437d-d1bb-00031bbc115c"
      },
      "execution_count": 286,
      "outputs": [
        {
          "output_type": "stream",
          "name": "stdout",
          "text": [
            "Accuracy of Target Model : 0.9\n"
          ]
        }
      ]
    },
    {
      "cell_type": "markdown",
      "source": [
        "Attack on target model"
      ],
      "metadata": {
        "id": "Nis949kyNbAj"
      }
    },
    {
      "cell_type": "markdown",
      "source": [
        "We create a shadow model"
      ],
      "metadata": {
        "id": "zGwOwlk6NkQe"
      }
    },
    {
      "cell_type": "code",
      "source": [
        "member_attributes=target_model(traindata_partial) #here we are feeding our target model to get member attributes "
      ],
      "metadata": {
        "id": "MF-CUCOKNey_"
      },
      "execution_count": 287,
      "outputs": []
    },
    {
      "cell_type": "code",
      "source": [
        "member_attributes"
      ],
      "metadata": {
        "colab": {
          "base_uri": "https://localhost:8080/"
        },
        "id": "klEuwTGIOrn6",
        "outputId": "7aa644ec-2eed-4972-a7b3-940c680f3873"
      },
      "execution_count": 288,
      "outputs": [
        {
          "output_type": "execute_result",
          "data": {
            "text/plain": [
              "<tf.Tensor: shape=(10000, 10), dtype=float32, numpy=\n",
              "array([[ -8.09453   ,  -9.511581  ,   2.308946  , ...,   0.7989033 ,\n",
              "        -11.765329  , -14.546907  ],\n",
              "       [  1.4993261 ,  -1.5915823 ,   2.2405732 , ...,  -3.7230422 ,\n",
              "         -5.4061685 ,   9.783438  ],\n",
              "       [  1.2942592 ,   1.0332361 ,  -0.7563736 , ...,  -5.567007  ,\n",
              "         -7.7828164 ,   8.665651  ],\n",
              "       ...,\n",
              "       [  0.69104695,   7.2425804 ,  -4.5836205 , ...,  -4.4953585 ,\n",
              "          2.8515415 ,   7.202874  ],\n",
              "       [ -1.0489266 ,  10.469152  ,  -2.3504214 , ...,  -3.8080924 ,\n",
              "         -3.2119243 ,   3.6190464 ],\n",
              "       [ -4.1086407 ,  -7.4670677 ,   3.2689018 , ...,   6.2206845 ,\n",
              "        -11.102761  ,  -9.658786  ]], dtype=float32)>"
            ]
          },
          "metadata": {},
          "execution_count": 288
        }
      ]
    },
    {
      "cell_type": "code",
      "source": [
        "non_member_attributes=target_model(testdata_partial) #here we are feeding our target model to get non-member attributes "
      ],
      "metadata": {
        "id": "y_h3Zc1hOTvw"
      },
      "execution_count": 289,
      "outputs": []
    },
    {
      "cell_type": "code",
      "source": [
        "non_member_attributes"
      ],
      "metadata": {
        "colab": {
          "base_uri": "https://localhost:8080/"
        },
        "id": "rfAVW8PQOtYI",
        "outputId": "2bdcbed6-2724-49b9-89df-5a08696ce0b6"
      },
      "execution_count": 290,
      "outputs": [
        {
          "output_type": "execute_result",
          "data": {
            "text/plain": [
              "<tf.Tensor: shape=(5000, 10), dtype=float32, numpy=\n",
              "array([[ -1.7871485 ,  -5.1116824 ,  -1.3135241 , ...,  -9.017349  ,\n",
              "          3.2459524 ,  -4.4019    ],\n",
              "       [  6.0741    ,   3.6214423 ,  -5.7152243 , ...,  -8.691189  ,\n",
              "         11.031433  ,   1.1811364 ],\n",
              "       [  0.8379353 ,   3.4393337 ,  -5.3589616 , ...,  -2.32182   ,\n",
              "          3.0722766 ,   1.130228  ],\n",
              "       ...,\n",
              "       [ -3.689346  ,  -5.9777665 ,  -3.7441618 , ...,  -1.4427079 ,\n",
              "         -5.288816  ,  -2.697714  ],\n",
              "       [-14.829874  ,  -8.71036   ,   3.8072836 , ...,   0.63230956,\n",
              "        -10.641227  , -12.714217  ],\n",
              "       [  1.2543784 ,  15.432904  ,  -4.1131434 , ..., -12.167717  ,\n",
              "         -8.198457  ,   5.549427  ]], dtype=float32)>"
            ]
          },
          "metadata": {},
          "execution_count": 290
        }
      ]
    },
    {
      "cell_type": "markdown",
      "source": [
        "Data Preparations for Shadow Models"
      ],
      "metadata": {
        "id": "eDO4IXumO4Yy"
      }
    },
    {
      "cell_type": "code",
      "source": [
        "import pandas as pd\n",
        "from sklearn.model_selection import train_test_split\n",
        "#loading member data attributes to a list\n",
        "k = (member_attributes.numpy()).tolist()\n",
        "df = pd.DataFrame(k)\n",
        "listof1 = [1 for i in range(10000)] #we are giving 1 as lable to member attributes\n",
        "df[10] = listof1\n",
        "#loading non-member data attributes to a list\n",
        "y = (non_member_attributes.numpy()).tolist()\n",
        "df1 = pd.DataFrame(y)\n",
        "listof0 = [0 for i in range(5000)] #we are giving 0 as lable to non-member attributes\n",
        "df1[10] = listof0\n",
        "#we created a dataframe of memnber and non member data attributes\n",
        "input = df.append(df1)\n",
        "#we created data frame of member and non member lables\n",
        "labels = input.iloc[:,[10]]\n",
        "features = input.iloc[:,[0,1,2,3,4,5,6,7,8,9]]\n",
        "#test and train split\n",
        "train_INPUT, test_INPUT, train_INPUT_labels, test_INPUT_labels = train_test_split(features, labels, test_size=0.33, random_state=24)"
      ],
      "metadata": {
        "id": "1mKaPOFdO3Kr",
        "colab": {
          "base_uri": "https://localhost:8080/"
        },
        "outputId": "9c3911e2-3064-4207-e017-ea9105274147"
      },
      "execution_count": 291,
      "outputs": [
        {
          "output_type": "stream",
          "name": "stderr",
          "text": [
            "<ipython-input-291-7b30c142f9f8>:14: FutureWarning: The frame.append method is deprecated and will be removed from pandas in a future version. Use pandas.concat instead.\n",
            "  input = df.append(df1)\n"
          ]
        }
      ]
    },
    {
      "cell_type": "code",
      "source": [
        "input.size"
      ],
      "metadata": {
        "colab": {
          "base_uri": "https://localhost:8080/"
        },
        "id": "8jZ66G-mdYOT",
        "outputId": "1eb184ed-3532-47e8-d958-b3869632ee98"
      },
      "execution_count": 292,
      "outputs": [
        {
          "output_type": "execute_result",
          "data": {
            "text/plain": [
              "165000"
            ]
          },
          "metadata": {},
          "execution_count": 292
        }
      ]
    },
    {
      "cell_type": "code",
      "source": [
        "import pandas as pd\n",
        "from sklearn.model_selection import train_test_split\n",
        "\n",
        "\n",
        "new_df_m = pd.DataFrame(k)\n",
        "new_df = new_df_m.iloc[:5000]\n",
        "listof1 = [1 for i in range(5000)]\n",
        "new_df[10] = (listof1)\n",
        "\n",
        "new_df_nm = pd.DataFrame(y)\n",
        "listof0 = [0 for i in range(5000)]\n",
        "new_df_nm[10] = listof0\n",
        "new_input = new_df.append(new_df_nm)\n",
        "\n",
        "labels_NEW = new_input.iloc[:,[10]]\n",
        "features_NEW = new_input.iloc[:,[0,1,2,3,4,5,6,7,8,9]]\n",
        "train_NEW_INPUT, test_NEW_INPUT, train_NEW_INPUT_labels, test_NEW_INPUT_labels = train_test_split(features_NEW, labels_NEW, test_size=0.30, random_state=24)"
      ],
      "metadata": {
        "colab": {
          "base_uri": "https://localhost:8080/"
        },
        "id": "h4vuAIUjPPA9",
        "outputId": "f83bfdc1-a46f-4c39-8317-ab2d70f76f80"
      },
      "execution_count": 293,
      "outputs": [
        {
          "output_type": "stream",
          "name": "stderr",
          "text": [
            "<ipython-input-293-e833f0e86890>:8: SettingWithCopyWarning: \n",
            "A value is trying to be set on a copy of a slice from a DataFrame.\n",
            "Try using .loc[row_indexer,col_indexer] = value instead\n",
            "\n",
            "See the caveats in the documentation: https://pandas.pydata.org/pandas-docs/stable/user_guide/indexing.html#returning-a-view-versus-a-copy\n",
            "  new_df[10] = (listof1)\n",
            "<ipython-input-293-e833f0e86890>:13: FutureWarning: The frame.append method is deprecated and will be removed from pandas in a future version. Use pandas.concat instead.\n",
            "  new_input = new_df.append(new_df_nm)\n"
          ]
        }
      ]
    },
    {
      "cell_type": "markdown",
      "source": [
        "Shadow Models"
      ],
      "metadata": {
        "id": "9O5ETbPRL9GS"
      }
    },
    {
      "cell_type": "markdown",
      "source": [
        "Shadow Model 1 - XGBOOST CLASSIFIER"
      ],
      "metadata": {
        "id": "ICNFf02FMHki"
      }
    },
    {
      "cell_type": "code",
      "source": [
        "import xgboost as xgb\n",
        "from sklearn.metrics import classification_report\n",
        "boost = xgb.XGBClassifier( learning_rate = 0.1,\n",
        "                          n_estimators = 50000,\n",
        "                          max_depth = 2,\n",
        "                          subsample = 0.8,\n",
        "                          colsample_bytree = 1,\n",
        "                          gamma = 1)"
      ],
      "metadata": {
        "id": "yx4MBkMwPVbr"
      },
      "execution_count": 294,
      "outputs": []
    },
    {
      "cell_type": "code",
      "source": [
        "#model_NEW_INPUT = boost.fit(train_NEW_INPUT, train_NEW_INPUT_labels.values.ravel())\n",
        "#model_NEW_INPUT = boost.fit(train_NEW_INPUT, train_NEW_INPUT_labels)\n",
        "XGboost_model_input = boost.fit(train_INPUT, train_INPUT_labels)\n",
        "\n",
        "XGboost_predictive_labels = XGboost_model_input.predict(test_INPUT)\n",
        "print('Shadow model 1 : XGboost Classification Report')\n",
        "print(classification_report(test_INPUT_labels, XGboost_predictive_labels))\n",
        "\n",
        "#model_NEW_INPUT.score(test_NEW_INPUT, test_NEW_INPUT_labels)"
      ],
      "metadata": {
        "colab": {
          "base_uri": "https://localhost:8080/"
        },
        "id": "atfAfF-UPkL6",
        "outputId": "99688be0-b291-4e20-9989-0225b16c7a49"
      },
      "execution_count": 295,
      "outputs": [
        {
          "output_type": "stream",
          "name": "stdout",
          "text": [
            "Shadow model 1 : XGboost Classification Report\n",
            "              precision    recall  f1-score   support\n",
            "\n",
            "           0       0.35      0.26      0.30      1643\n",
            "           1       0.67      0.76      0.71      3307\n",
            "\n",
            "    accuracy                           0.59      4950\n",
            "   macro avg       0.51      0.51      0.50      4950\n",
            "weighted avg       0.56      0.59      0.57      4950\n",
            "\n"
          ]
        }
      ]
    },
    {
      "cell_type": "code",
      "source": [
        "XGboost_predictive_labels = XGboost_model_input.predict(train_INPUT)\n",
        "print('With Ground truth Data')\n",
        "print(classification_report(train_INPUT_labels, XGboost_predictive_labels))\n"
      ],
      "metadata": {
        "colab": {
          "base_uri": "https://localhost:8080/"
        },
        "id": "qFmJVIkUZr3W",
        "outputId": "ea4b27a4-8576-49c8-b4cd-73d5bbc686d1"
      },
      "execution_count": 296,
      "outputs": [
        {
          "output_type": "stream",
          "name": "stdout",
          "text": [
            "With Ground truth Data\n",
            "              precision    recall  f1-score   support\n",
            "\n",
            "           0       1.00      0.99      1.00      3357\n",
            "           1       1.00      1.00      1.00      6693\n",
            "\n",
            "    accuracy                           1.00     10050\n",
            "   macro avg       1.00      1.00      1.00     10050\n",
            "weighted avg       1.00      1.00      1.00     10050\n",
            "\n"
          ]
        }
      ]
    },
    {
      "cell_type": "markdown",
      "source": [
        "Shadow Model 2 - Random Forest Classifier "
      ],
      "metadata": {
        "id": "De1SSA2QM68m"
      }
    },
    {
      "cell_type": "code",
      "source": [
        "from sklearn.ensemble import RandomForestClassifier\n",
        "rlf = RandomForestClassifier(max_depth=2, random_state=12)"
      ],
      "metadata": {
        "id": "hdsdjh1IMLXQ"
      },
      "execution_count": 297,
      "outputs": []
    },
    {
      "cell_type": "code",
      "source": [
        "rlf_model = rlf.fit(train_INPUT, train_INPUT_labels)\n",
        "rf_predictive_labels = rlf_model.predict(test_INPUT)\n",
        "print('Shadow model 2 : Random Forest Classification Report')\n",
        "print(classification_report(test_INPUT_labels, rf_predictive_labels))"
      ],
      "metadata": {
        "colab": {
          "base_uri": "https://localhost:8080/"
        },
        "id": "iKEWiFLTEkIr",
        "outputId": "28ff5ed1-3d45-4924-c0be-b8356b29b7a2"
      },
      "execution_count": 298,
      "outputs": [
        {
          "output_type": "stream",
          "name": "stderr",
          "text": [
            "<ipython-input-298-ab8f6979009a>:1: DataConversionWarning: A column-vector y was passed when a 1d array was expected. Please change the shape of y to (n_samples,), for example using ravel().\n",
            "  rlf_model = rlf.fit(train_INPUT, train_INPUT_labels)\n"
          ]
        },
        {
          "output_type": "stream",
          "name": "stdout",
          "text": [
            "Shadow model 2 : Random Forest Classification Report\n",
            "              precision    recall  f1-score   support\n",
            "\n",
            "           0       0.00      0.00      0.00      1643\n",
            "           1       0.67      1.00      0.80      3307\n",
            "\n",
            "    accuracy                           0.67      4950\n",
            "   macro avg       0.33      0.50      0.40      4950\n",
            "weighted avg       0.45      0.67      0.54      4950\n",
            "\n"
          ]
        },
        {
          "output_type": "stream",
          "name": "stderr",
          "text": [
            "/usr/local/lib/python3.9/dist-packages/sklearn/metrics/_classification.py:1344: UndefinedMetricWarning: Precision and F-score are ill-defined and being set to 0.0 in labels with no predicted samples. Use `zero_division` parameter to control this behavior.\n",
            "  _warn_prf(average, modifier, msg_start, len(result))\n",
            "/usr/local/lib/python3.9/dist-packages/sklearn/metrics/_classification.py:1344: UndefinedMetricWarning: Precision and F-score are ill-defined and being set to 0.0 in labels with no predicted samples. Use `zero_division` parameter to control this behavior.\n",
            "  _warn_prf(average, modifier, msg_start, len(result))\n",
            "/usr/local/lib/python3.9/dist-packages/sklearn/metrics/_classification.py:1344: UndefinedMetricWarning: Precision and F-score are ill-defined and being set to 0.0 in labels with no predicted samples. Use `zero_division` parameter to control this behavior.\n",
            "  _warn_prf(average, modifier, msg_start, len(result))\n"
          ]
        }
      ]
    },
    {
      "cell_type": "code",
      "source": [
        "rf_predictive_labels = rlf_model.predict(train_INPUT)\n",
        "print('With Ground truth Data')\n",
        "print(classification_report(train_INPUT_labels, rf_predictive_labels))"
      ],
      "metadata": {
        "colab": {
          "base_uri": "https://localhost:8080/"
        },
        "id": "9Esh31a5opuq",
        "outputId": "cd13c252-967c-4115-9858-272f9d9acdbe"
      },
      "execution_count": 299,
      "outputs": [
        {
          "output_type": "stream",
          "name": "stdout",
          "text": [
            "With Ground truth Data\n",
            "              precision    recall  f1-score   support\n",
            "\n",
            "           0       1.00      0.00      0.00      3357\n",
            "           1       0.67      1.00      0.80      6693\n",
            "\n",
            "    accuracy                           0.67     10050\n",
            "   macro avg       0.83      0.50      0.40     10050\n",
            "weighted avg       0.78      0.67      0.53     10050\n",
            "\n"
          ]
        }
      ]
    },
    {
      "cell_type": "markdown",
      "source": [
        "Shadow Model 3 - Linear Regression\n"
      ],
      "metadata": {
        "id": "3fR8c26nwg2f"
      }
    },
    {
      "cell_type": "code",
      "source": [
        "from sklearn.linear_model import LinearRegression\n",
        "LR_model = LinearRegression().fit(train_INPUT, train_INPUT_labels)\n",
        "LR_predictive_labels = LR_model.predict(test_INPUT)\n",
        "LR_predictive_labels = np.round(LR_predictive_labels)\n",
        "print('Shadow model 3 : Linear Regression Classification Report')\n",
        "print(classification_report(test_INPUT_labels, LR_predictive_labels))"
      ],
      "metadata": {
        "colab": {
          "base_uri": "https://localhost:8080/"
        },
        "id": "Pr5kAhox2Pg1",
        "outputId": "aeac55ea-624f-44a2-cc0e-4ad792d88580"
      },
      "execution_count": 300,
      "outputs": [
        {
          "output_type": "stream",
          "name": "stdout",
          "text": [
            "Shadow model 3 : Linear Regression Classification Report\n"
          ]
        },
        {
          "output_type": "stream",
          "name": "stderr",
          "text": [
            "/usr/local/lib/python3.9/dist-packages/sklearn/metrics/_classification.py:1344: UndefinedMetricWarning: Precision and F-score are ill-defined and being set to 0.0 in labels with no predicted samples. Use `zero_division` parameter to control this behavior.\n",
            "  _warn_prf(average, modifier, msg_start, len(result))\n"
          ]
        },
        {
          "output_type": "stream",
          "name": "stdout",
          "text": [
            "              precision    recall  f1-score   support\n",
            "\n",
            "           0       0.00      0.00      0.00      1643\n",
            "           1       0.67      1.00      0.80      3307\n",
            "\n",
            "    accuracy                           0.67      4950\n",
            "   macro avg       0.33      0.50      0.40      4950\n",
            "weighted avg       0.45      0.67      0.54      4950\n",
            "\n"
          ]
        },
        {
          "output_type": "stream",
          "name": "stderr",
          "text": [
            "/usr/local/lib/python3.9/dist-packages/sklearn/metrics/_classification.py:1344: UndefinedMetricWarning: Precision and F-score are ill-defined and being set to 0.0 in labels with no predicted samples. Use `zero_division` parameter to control this behavior.\n",
            "  _warn_prf(average, modifier, msg_start, len(result))\n",
            "/usr/local/lib/python3.9/dist-packages/sklearn/metrics/_classification.py:1344: UndefinedMetricWarning: Precision and F-score are ill-defined and being set to 0.0 in labels with no predicted samples. Use `zero_division` parameter to control this behavior.\n",
            "  _warn_prf(average, modifier, msg_start, len(result))\n"
          ]
        }
      ]
    },
    {
      "cell_type": "code",
      "source": [
        "LR_predictive_labels = LR_model.predict(train_INPUT)\n",
        "LR_predictive_labels = np.round(LR_predictive_labels)\n",
        "print('With Ground truth Data')\n",
        "print(classification_report(train_INPUT_labels, LR_predictive_labels))"
      ],
      "metadata": {
        "colab": {
          "base_uri": "https://localhost:8080/"
        },
        "id": "poe_C4v76hKI",
        "outputId": "997f5f17-958c-4201-b4a7-a712a1417909"
      },
      "execution_count": 301,
      "outputs": [
        {
          "output_type": "stream",
          "name": "stdout",
          "text": [
            "With Ground truth Data\n",
            "              precision    recall  f1-score   support\n",
            "\n",
            "           0       0.00      0.00      0.00      3357\n",
            "           1       0.67      1.00      0.80      6693\n",
            "\n",
            "    accuracy                           0.67     10050\n",
            "   macro avg       0.33      0.50      0.40     10050\n",
            "weighted avg       0.44      0.67      0.53     10050\n",
            "\n"
          ]
        },
        {
          "output_type": "stream",
          "name": "stderr",
          "text": [
            "/usr/local/lib/python3.9/dist-packages/sklearn/metrics/_classification.py:1344: UndefinedMetricWarning: Precision and F-score are ill-defined and being set to 0.0 in labels with no predicted samples. Use `zero_division` parameter to control this behavior.\n",
            "  _warn_prf(average, modifier, msg_start, len(result))\n",
            "/usr/local/lib/python3.9/dist-packages/sklearn/metrics/_classification.py:1344: UndefinedMetricWarning: Precision and F-score are ill-defined and being set to 0.0 in labels with no predicted samples. Use `zero_division` parameter to control this behavior.\n",
            "  _warn_prf(average, modifier, msg_start, len(result))\n",
            "/usr/local/lib/python3.9/dist-packages/sklearn/metrics/_classification.py:1344: UndefinedMetricWarning: Precision and F-score are ill-defined and being set to 0.0 in labels with no predicted samples. Use `zero_division` parameter to control this behavior.\n",
            "  _warn_prf(average, modifier, msg_start, len(result))\n"
          ]
        }
      ]
    },
    {
      "cell_type": "markdown",
      "source": [
        "Shadow Model 4 - Perceptron "
      ],
      "metadata": {
        "id": "jleJ4foe6xeX"
      }
    },
    {
      "cell_type": "code",
      "source": [
        "from sklearn.linear_model import Perceptron\n",
        "P_model = Perceptron(tol=1e-3, random_state=0)\n",
        "P_model = P_model.fit(train_INPUT, train_INPUT_labels)\n",
        "P_predictive_labels = P_model.predict(test_INPUT)\n",
        "print('Shadow model 4 : Perceptron Classification Report')\n",
        "print(classification_report(test_INPUT_labels, P_predictive_labels))"
      ],
      "metadata": {
        "colab": {
          "base_uri": "https://localhost:8080/"
        },
        "id": "d3fWeEiM6vZz",
        "outputId": "e97786f2-152e-42e8-fb67-745cf03c1991"
      },
      "execution_count": 302,
      "outputs": [
        {
          "output_type": "stream",
          "name": "stderr",
          "text": [
            "/usr/local/lib/python3.9/dist-packages/sklearn/utils/validation.py:1143: DataConversionWarning: A column-vector y was passed when a 1d array was expected. Please change the shape of y to (n_samples, ), for example using ravel().\n",
            "  y = column_or_1d(y, warn=True)\n"
          ]
        },
        {
          "output_type": "stream",
          "name": "stdout",
          "text": [
            "Shadow model 4 : Perceptron Classification Report\n",
            "              precision    recall  f1-score   support\n",
            "\n",
            "           0       0.34      0.33      0.33      1643\n",
            "           1       0.67      0.69      0.68      3307\n",
            "\n",
            "    accuracy                           0.57      4950\n",
            "   macro avg       0.51      0.51      0.51      4950\n",
            "weighted avg       0.56      0.57      0.56      4950\n",
            "\n"
          ]
        }
      ]
    },
    {
      "cell_type": "code",
      "source": [
        "P_predictive_labels = P_model.predict(train_INPUT)\n",
        "print('With Ground truth Data')\n",
        "print(classification_report(train_INPUT_labels, P_predictive_labels))"
      ],
      "metadata": {
        "colab": {
          "base_uri": "https://localhost:8080/"
        },
        "id": "JemvvjAg8t4m",
        "outputId": "cc5a3afa-8cd7-4e25-be31-d80b626a1cb9"
      },
      "execution_count": 303,
      "outputs": [
        {
          "output_type": "stream",
          "name": "stdout",
          "text": [
            "With Ground truth Data\n",
            "              precision    recall  f1-score   support\n",
            "\n",
            "           0       0.33      0.34      0.34      3357\n",
            "           1       0.67      0.66      0.66      6693\n",
            "\n",
            "    accuracy                           0.55     10050\n",
            "   macro avg       0.50      0.50      0.50     10050\n",
            "weighted avg       0.56      0.55      0.55     10050\n",
            "\n"
          ]
        }
      ]
    },
    {
      "cell_type": "markdown",
      "source": [
        "Shadow Model 5 - AdaBoost"
      ],
      "metadata": {
        "id": "11R1uCNL9eAD"
      }
    },
    {
      "cell_type": "code",
      "source": [
        "from sklearn.ensemble import AdaBoostClassifier\n",
        "from sklearn.datasets import make_classification\n",
        "ABC_model = AdaBoostClassifier(n_estimators=100, random_state=0)\n",
        "ABC_model = ABC_model.fit(train_INPUT, train_INPUT_labels)\n",
        "ABC_predictive_labels = ABC_model.predict(test_INPUT)\n",
        "print('Shadow model 5 : AdaBoost Classification Report')\n",
        "print(classification_report(test_INPUT_labels, ABC_predictive_labels))"
      ],
      "metadata": {
        "colab": {
          "base_uri": "https://localhost:8080/"
        },
        "id": "3nT9Fr-r9t4i",
        "outputId": "516e8f9e-5497-4682-c37c-e4f83809ab28"
      },
      "execution_count": 304,
      "outputs": [
        {
          "output_type": "stream",
          "name": "stderr",
          "text": [
            "/usr/local/lib/python3.9/dist-packages/sklearn/utils/validation.py:1143: DataConversionWarning: A column-vector y was passed when a 1d array was expected. Please change the shape of y to (n_samples, ), for example using ravel().\n",
            "  y = column_or_1d(y, warn=True)\n"
          ]
        },
        {
          "output_type": "stream",
          "name": "stdout",
          "text": [
            "Shadow model 5 : AdaBoost Classification Report\n",
            "              precision    recall  f1-score   support\n",
            "\n",
            "           0       0.40      0.02      0.03      1643\n",
            "           1       0.67      0.99      0.80      3307\n",
            "\n",
            "    accuracy                           0.67      4950\n",
            "   macro avg       0.54      0.50      0.41      4950\n",
            "weighted avg       0.58      0.67      0.54      4950\n",
            "\n"
          ]
        }
      ]
    },
    {
      "cell_type": "code",
      "source": [
        "ABC_predictive_labels = ABC_model.predict(train_INPUT)\n",
        "print('With Ground truth Data')\n",
        "print(classification_report(train_INPUT_labels, ABC_predictive_labels))"
      ],
      "metadata": {
        "colab": {
          "base_uri": "https://localhost:8080/"
        },
        "id": "b3kW0EsU-sHg",
        "outputId": "646e8e62-a3be-4878-c232-868593694311"
      },
      "execution_count": 305,
      "outputs": [
        {
          "output_type": "stream",
          "name": "stdout",
          "text": [
            "With Ground truth Data\n",
            "              precision    recall  f1-score   support\n",
            "\n",
            "           0       0.74      0.03      0.05      3357\n",
            "           1       0.67      1.00      0.80      6693\n",
            "\n",
            "    accuracy                           0.67     10050\n",
            "   macro avg       0.71      0.51      0.43     10050\n",
            "weighted avg       0.70      0.67      0.55     10050\n",
            "\n"
          ]
        }
      ]
    },
    {
      "cell_type": "markdown",
      "source": [
        "Shadow Model 6 - Support Vector Machine"
      ],
      "metadata": {
        "id": "Q9QY-8vH-3GX"
      }
    },
    {
      "cell_type": "code",
      "source": [
        "from sklearn.svm import SVC\n",
        "from sklearn.pipeline import make_pipeline\n",
        "from sklearn.preprocessing import StandardScaler\n",
        "\n",
        "SVM_model = make_pipeline(StandardScaler(), SVC(gamma='auto'))\n",
        "SVM_model = SVM_model.fit(train_INPUT, train_INPUT_labels)\n",
        "SVM_predictive_labels = SVM_model.predict(test_INPUT)\n",
        "#SVM_predictive_labels = np.round(SVM_predictive_labels)\n",
        "\n",
        "print('Shadow model 6 : Support Vector Machine Classification Report')\n",
        "print(classification_report(test_INPUT_labels, SVM_predictive_labels))"
      ],
      "metadata": {
        "colab": {
          "base_uri": "https://localhost:8080/"
        },
        "id": "11vZzcz5_0Sx",
        "outputId": "dfe05212-14b9-406c-d6c3-285b19ccb3d6"
      },
      "execution_count": 306,
      "outputs": [
        {
          "output_type": "stream",
          "name": "stderr",
          "text": [
            "/usr/local/lib/python3.9/dist-packages/sklearn/utils/validation.py:1143: DataConversionWarning: A column-vector y was passed when a 1d array was expected. Please change the shape of y to (n_samples, ), for example using ravel().\n",
            "  y = column_or_1d(y, warn=True)\n"
          ]
        },
        {
          "output_type": "stream",
          "name": "stdout",
          "text": [
            "Shadow model 6 : Support Vector Machine Classification Report\n",
            "              precision    recall  f1-score   support\n",
            "\n",
            "           0       0.00      0.00      0.00      1643\n",
            "           1       0.67      1.00      0.80      3307\n",
            "\n",
            "    accuracy                           0.67      4950\n",
            "   macro avg       0.33      0.50      0.40      4950\n",
            "weighted avg       0.45      0.67      0.54      4950\n",
            "\n"
          ]
        },
        {
          "output_type": "stream",
          "name": "stderr",
          "text": [
            "/usr/local/lib/python3.9/dist-packages/sklearn/metrics/_classification.py:1344: UndefinedMetricWarning: Precision and F-score are ill-defined and being set to 0.0 in labels with no predicted samples. Use `zero_division` parameter to control this behavior.\n",
            "  _warn_prf(average, modifier, msg_start, len(result))\n",
            "/usr/local/lib/python3.9/dist-packages/sklearn/metrics/_classification.py:1344: UndefinedMetricWarning: Precision and F-score are ill-defined and being set to 0.0 in labels with no predicted samples. Use `zero_division` parameter to control this behavior.\n",
            "  _warn_prf(average, modifier, msg_start, len(result))\n",
            "/usr/local/lib/python3.9/dist-packages/sklearn/metrics/_classification.py:1344: UndefinedMetricWarning: Precision and F-score are ill-defined and being set to 0.0 in labels with no predicted samples. Use `zero_division` parameter to control this behavior.\n",
            "  _warn_prf(average, modifier, msg_start, len(result))\n"
          ]
        }
      ]
    },
    {
      "cell_type": "code",
      "source": [
        "SVM_predictive_labels = SVM_model.predict(train_INPUT)\n",
        "print('With Ground truth Data')\n",
        "print(classification_report(train_INPUT_labels, SVM_predictive_labels))"
      ],
      "metadata": {
        "colab": {
          "base_uri": "https://localhost:8080/"
        },
        "id": "kIEf76scBIEX",
        "outputId": "d29954ab-188f-40dd-8e36-2c758c964f19"
      },
      "execution_count": 307,
      "outputs": [
        {
          "output_type": "stream",
          "name": "stdout",
          "text": [
            "With Ground truth Data\n",
            "              precision    recall  f1-score   support\n",
            "\n",
            "           0       1.00      0.00      0.00      3357\n",
            "           1       0.67      1.00      0.80      6693\n",
            "\n",
            "    accuracy                           0.67     10050\n",
            "   macro avg       0.83      0.50      0.40     10050\n",
            "weighted avg       0.78      0.67      0.53     10050\n",
            "\n"
          ]
        }
      ]
    },
    {
      "cell_type": "markdown",
      "source": [
        "Shadow Model 7 - Hist Gradient Boosting Classifier"
      ],
      "metadata": {
        "id": "LYxqmfklBcvW"
      }
    },
    {
      "cell_type": "code",
      "source": [
        "from sklearn.ensemble import HistGradientBoostingClassifier\n",
        "HGB_model = HistGradientBoostingClassifier().fit(train_INPUT, train_INPUT_labels)\n",
        "HGB_predictive_labels = HGB_model.predict(test_INPUT)\n",
        "\n",
        "print('Shadow model 7 : HIST Gradient Boosting Classification Report')\n",
        "report = classification_report(test_INPUT_labels, HGB_predictive_labels)\n",
        "print(report)\n"
      ],
      "metadata": {
        "colab": {
          "base_uri": "https://localhost:8080/"
        },
        "id": "BKE1wq-4CbGy",
        "outputId": "b1bf05f5-5287-417b-cd73-1fd6384823db"
      },
      "execution_count": 308,
      "outputs": [
        {
          "output_type": "stream",
          "name": "stdout",
          "text": [
            "Shadow model 7 : HIST Gradient Boosting Classification Report\n",
            "              precision    recall  f1-score   support\n",
            "\n",
            "           0       0.25      0.00      0.00      1643\n",
            "           1       0.67      1.00      0.80      3307\n",
            "\n",
            "    accuracy                           0.67      4950\n",
            "   macro avg       0.46      0.50      0.40      4950\n",
            "weighted avg       0.53      0.67      0.54      4950\n",
            "\n"
          ]
        },
        {
          "output_type": "stream",
          "name": "stderr",
          "text": [
            "/usr/local/lib/python3.9/dist-packages/sklearn/utils/validation.py:1143: DataConversionWarning: A column-vector y was passed when a 1d array was expected. Please change the shape of y to (n_samples, ), for example using ravel().\n",
            "  y = column_or_1d(y, warn=True)\n"
          ]
        }
      ]
    },
    {
      "cell_type": "code",
      "source": [
        "HGB_predictive_labels = HGB_model.predict(train_INPUT)\n",
        "print('With Ground truth Data')\n",
        "print(classification_report(train_INPUT_labels, HGB_predictive_labels))"
      ],
      "metadata": {
        "colab": {
          "base_uri": "https://localhost:8080/"
        },
        "id": "6rXahFdhIlxd",
        "outputId": "0b3b42b2-a11e-49e0-8ed7-b30266e6cfd8"
      },
      "execution_count": 309,
      "outputs": [
        {
          "output_type": "stream",
          "name": "stdout",
          "text": [
            "With Ground truth Data\n",
            "              precision    recall  f1-score   support\n",
            "\n",
            "           0       1.00      0.00      0.00      3357\n",
            "           1       0.67      1.00      0.80      6693\n",
            "\n",
            "    accuracy                           0.67     10050\n",
            "   macro avg       0.83      0.50      0.40     10050\n",
            "weighted avg       0.78      0.67      0.53     10050\n",
            "\n"
          ]
        }
      ]
    },
    {
      "cell_type": "markdown",
      "source": [
        "Mean f1 Score of our classifiers"
      ],
      "metadata": {
        "id": "-771sDPFC0KV"
      }
    },
    {
      "cell_type": "code",
      "source": [
        "import statistics\n",
        "\n",
        "f1_scores = [0.71, 0.80, 0.80, 0.68, 0.80, 0.80, 0.80]\n",
        "\n",
        "\n",
        "mean_f1 = statistics.mean(f1_scores)\n",
        "\n",
        "\n",
        "print(\"Mean f1 Score of all shadow models:\", mean_f1)\n"
      ],
      "metadata": {
        "colab": {
          "base_uri": "https://localhost:8080/"
        },
        "id": "yPiqN1fqCwt7",
        "outputId": "2d99bf3f-537d-4435-e17d-2db608de1c35"
      },
      "execution_count": 312,
      "outputs": [
        {
          "output_type": "stream",
          "name": "stdout",
          "text": [
            "Mean f1 Score of all shadow models: 0.77\n"
          ]
        }
      ]
    },
    {
      "cell_type": "markdown",
      "source": [
        "Mean Accuracy of our classifiers"
      ],
      "metadata": {
        "id": "_2af7ZLrDegp"
      }
    },
    {
      "cell_type": "code",
      "source": [
        "import statistics\n",
        "\n",
        "accuracy = [0.59, 0.67, 0.67, 0.57, 0.67, 0.67, 0.67]\n",
        "\n",
        "\n",
        "mean_a = statistics.mean(accuracy)\n",
        "\n",
        "print(\"Mean Accuracy of all shadow models:\", mean_a)"
      ],
      "metadata": {
        "colab": {
          "base_uri": "https://localhost:8080/"
        },
        "id": "-x0zZLdLDhL_",
        "outputId": "93d73e1f-c49d-409f-871f-46624771b95e"
      },
      "execution_count": 313,
      "outputs": [
        {
          "output_type": "stream",
          "name": "stdout",
          "text": [
            "Mean Accuracy of all shadow models: 0.6442857142857144\n"
          ]
        }
      ]
    }
  ],
  "metadata": {
    "colab": {
      "provenance": []
    },
    "gpuClass": "standard",
    "kernelspec": {
      "display_name": "Python 3",
      "name": "python3"
    },
    "language_info": {
      "name": "python"
    }
  },
  "nbformat": 4,
  "nbformat_minor": 0
}